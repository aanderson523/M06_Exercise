{
 "cells": [
  {
   "cell_type": "code",
   "execution_count": 62,
   "id": "bad834db",
   "metadata": {},
   "outputs": [],
   "source": [
    "from datetime import datetime"
   ]
  },
  {
   "cell_type": "code",
   "execution_count": 63,
   "id": "e37b906a",
   "metadata": {},
   "outputs": [],
   "source": [
    "T_Date = \"October 1, 2022\""
   ]
  },
  {
   "cell_type": "code",
   "execution_count": 64,
   "id": "2c6051a5",
   "metadata": {},
   "outputs": [],
   "source": [
    "T_Date_obj = datetime.strptime(T_Date, '%B %d, %Y')"
   ]
  },
  {
   "cell_type": "code",
   "execution_count": 65,
   "id": "b1d84a4b",
   "metadata": {},
   "outputs": [
    {
     "name": "stdout",
     "output_type": "stream",
     "text": [
      "2022-10-01 00:00:00\n"
     ]
    }
   ],
   "source": [
    "print(T_Date_obj)"
   ]
  },
  {
   "cell_type": "code",
   "execution_count": 66,
   "id": "092fc6cc",
   "metadata": {},
   "outputs": [],
   "source": [
    "import multiprocessing"
   ]
  },
  {
   "cell_type": "code",
   "execution_count": 67,
   "id": "b2f307f4",
   "metadata": {},
   "outputs": [],
   "source": [
    "import random"
   ]
  },
  {
   "cell_type": "code",
   "execution_count": 68,
   "id": "21f63956",
   "metadata": {},
   "outputs": [],
   "source": [
    "import time"
   ]
  },
  {
   "cell_type": "code",
   "execution_count": 69,
   "id": "c8e90e83",
   "metadata": {},
   "outputs": [
    {
     "name": "stdout",
     "output_type": "stream",
     "text": [
      "0\n"
     ]
    }
   ],
   "source": [
    "wake_up = random.randint(0, 1)\n",
    "print(wake_up)"
   ]
  },
  {
   "cell_type": "code",
   "execution_count": 70,
   "id": "7fe57023",
   "metadata": {},
   "outputs": [
    {
     "name": "stdout",
     "output_type": "stream",
     "text": [
      "0\n"
     ]
    }
   ],
   "source": [
    "sleep = random.randint(0, 1)\n",
    "print(sleep)"
   ]
  },
  {
   "cell_type": "code",
   "execution_count": 71,
   "id": "824d8ca5",
   "metadata": {},
   "outputs": [
    {
     "name": "stdout",
     "output_type": "stream",
     "text": [
      "1\n"
     ]
    }
   ],
   "source": [
    "clean = random.randint(0,1)\n",
    "print(clean)"
   ]
  }
 ],
 "metadata": {
  "kernelspec": {
   "display_name": "Python 3 (ipykernel)",
   "language": "python",
   "name": "python3"
  },
  "language_info": {
   "codemirror_mode": {
    "name": "ipython",
    "version": 3
   },
   "file_extension": ".py",
   "mimetype": "text/x-python",
   "name": "python",
   "nbconvert_exporter": "python",
   "pygments_lexer": "ipython3",
   "version": "3.9.7"
  }
 },
 "nbformat": 4,
 "nbformat_minor": 5
}
